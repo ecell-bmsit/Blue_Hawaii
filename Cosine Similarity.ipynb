{
 "cells": [
  {
   "cell_type": "code",
   "execution_count": 4,
   "id": "24303bdb-cc5b-487a-aded-5dec115689ea",
   "metadata": {
    "scrolled": true
   },
   "outputs": [
    {
     "name": "stdout",
     "output_type": "stream",
     "text": [
      "Recommended cities based on input tags: Index(['Jaipur', 'Bangalore'], dtype='object', name='City')\n"
     ]
    }
   ],
   "source": [
    "import pandas as pd\n",
    "from sklearn.metrics.pairwise import cosine_similarity\n",
    "\n",
    "df = pd.read_excel('./Dataset.xlsx')\n",
    "df = df.fillna(0)\n",
    "\n",
    "df.set_index('City', inplace=True)\n",
    "similarity_matrix = cosine_similarity(df)\n",
    "\n",
    "def recommend_cities(input_tags, similarity_matrix, df):\n",
    "    input_data = pd.DataFrame([input_tags], columns=df.columns)\n",
    "\n",
    "    input_similarity = cosine_similarity(input_data, df)\n",
    "\n",
    "    similar_cities_indices = input_similarity.argsort()[0][::-1]\n",
    "\n",
    "    recommended_cities = df.index[similar_cities_indices]\n",
    "\n",
    "    return recommended_cities\n",
    "\n",
    "input_tags = [1,\t1,\t1,\t0,\t0,\t0,\t0,\t0,\t0,\t0,\t1,\t1,\t1,\t1,\t0,\t0,\t1,\t0]  # 1 for yes, 0 for no\n",
    "\n",
    "recommended_cities = recommend_cities(input_tags, similarity_matrix, df)\n",
    "print(f\"Recommended cities based on input tags: {recommended_cities}\")\n"
   ]
  },
  {
   "cell_type": "code",
   "execution_count": null,
   "id": "4fad4f07-2f87-4807-937b-2d36ec17e001",
   "metadata": {},
   "outputs": [],
   "source": [
    "#openpyxl, pandas, scikit-learn"
   ]
  }
 ],
 "metadata": {
  "kernelspec": {
   "display_name": "Chat",
   "language": "python",
   "name": "chat"
  },
  "language_info": {
   "codemirror_mode": {
    "name": "ipython",
    "version": 3
   },
   "file_extension": ".py",
   "mimetype": "text/x-python",
   "name": "python",
   "nbconvert_exporter": "python",
   "pygments_lexer": "ipython3",
   "version": "3.11.7"
  }
 },
 "nbformat": 4,
 "nbformat_minor": 5
}
