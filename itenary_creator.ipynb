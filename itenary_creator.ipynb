{
 "cells": [
  {
   "cell_type": "code",
   "execution_count": 25,
   "metadata": {},
   "outputs": [],
   "source": [
    "from strictjson import *\n",
    "from pprint import pprint"
   ]
  },
  {
   "cell_type": "code",
   "execution_count": 31,
   "metadata": {},
   "outputs": [],
   "source": [
    "def create_itenary(place_name: str, num_days: int, tags: list):\n",
    "    res = strict_json(\n",
    "        system_prompt=\"You are an iteneray creator for a {num_days} days trip to {place_name}. Take into consideration the user's preferences which are {tags}. Do not continue the itenary above {num_days} days.\".format(\n",
    "            num_days=num_days, place_name=place_name, tags=tags\n",
    "        ),\n",
    "        user_prompt=place_name,\n",
    "        output_format={\n",
    "            \"Day {i}\".format(i=i): \"itenary for day {i}.\".format(i=i)\n",
    "            for i in range(1, num_days + 1)\n",
    "        },\n",
    "    )\n",
    "    return res"
   ]
  },
  {
   "cell_type": "code",
   "execution_count": 32,
   "metadata": {},
   "outputs": [],
   "source": [
    "res = create_itenary(\"Bengaluru\", 3, [\"adventure\", \"nature\", \"history\"])"
   ]
  },
  {
   "cell_type": "code",
   "execution_count": 33,
   "metadata": {},
   "outputs": [
    {
     "name": "stdout",
     "output_type": "stream",
     "text": [
      "{'Day 1': 'Start your day with an adventurous activity like rock climbing or '\n",
      "          'trekking at Ramanagara. Afterward, visit Bannerghatta National Park '\n",
      "          'to experience the beauty of nature and spot wildlife. In the '\n",
      "          'evening, explore the historical Bangalore Palace and learn about '\n",
      "          'its rich history.',\n",
      " 'Day 2': 'Embark on a thrilling adventure at Wonderla Amusement Park, where '\n",
      "          'you can enjoy various rides and attractions. Afterward, visit '\n",
      "          'Lalbagh Botanical Garden to immerse yourself in the beauty of '\n",
      "          'nature. In the evening, take a stroll at Cubbon Park and admire the '\n",
      "          'historical buildings around.',\n",
      " 'Day 3': 'Start your day with a visit to Nandi Hills, where you can enjoy '\n",
      "          'breathtaking views of the sunrise and indulge in paragliding or '\n",
      "          'cycling. Afterward, explore the historical sites of Bangalore Fort '\n",
      "          \"and Tipu Sultan's Summer Palace. End your trip with a peaceful walk \"\n",
      "          'at the serene Ulsoor Lake.'}\n"
     ]
    }
   ],
   "source": [
    "pprint(res)"
   ]
  }
 ],
 "metadata": {
  "kernelspec": {
   "display_name": ".venv",
   "language": "python",
   "name": "python3"
  },
  "language_info": {
   "codemirror_mode": {
    "name": "ipython",
    "version": 3
   },
   "file_extension": ".py",
   "mimetype": "text/x-python",
   "name": "python",
   "nbconvert_exporter": "python",
   "pygments_lexer": "ipython3",
   "version": "3.11.7"
  }
 },
 "nbformat": 4,
 "nbformat_minor": 2
}
