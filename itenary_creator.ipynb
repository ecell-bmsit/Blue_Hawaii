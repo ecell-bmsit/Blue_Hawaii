{
 "cells": [
  {
   "cell_type": "code",
   "execution_count": 25,
   "metadata": {},
   "outputs": [],
   "source": [
    "from strictjson import *\n",
    "from pprint import pprint"
   ]
  },
  {
   "cell_type": "code",
   "execution_count": 22,
   "metadata": {},
   "outputs": [],
   "source": [
    "def create_itenary(place_name:str,num_days:int,tags:list):\n",
    "    res = strict_json(\n",
    "    system_prompt=\"You are an iteneray creator for a {num_days} days trip to {place_name}. Take into consideration the user's preferences which are {tags}. Do not continue the itenary above {num_days} days.\".format(num_days=num_days,place_name=place_name,tags=tags),\n",
    "    user_prompt=place_name,\n",
    "    output_format={\"itenary\":\"list of itenary for iteneray {num_days} number of days.\".format(num_days=num_days)})\n",
    "    return res"
   ]
  },
  {
   "cell_type": "code",
   "execution_count": 24,
   "metadata": {},
   "outputs": [],
   "source": [
    "res=create_itenary(\"Bengaluru\",3,[\"adventure\",\"nature\",\"history\"])"
   ]
  },
  {
   "cell_type": "code",
   "execution_count": 26,
   "metadata": {},
   "outputs": [
    {
     "name": "stdout",
     "output_type": "stream",
     "text": [
      "{'itenary': \"['Day 1: Visit Bannerghatta National Park for adventure and \"\n",
      "            'nature activities. Explore the wildlife safari, butterfly park, '\n",
      "            \"and trekking trails.',\\n\"\n",
      "            \"                   'Day 2: Visit Bangalore Palace for a glimpse \"\n",
      "            \"into the city's history. Explore the beautiful architecture and \"\n",
      "            \"learn about the royal heritage.',\\n\"\n",
      "            \"                   'Day 3: Visit Lalbagh Botanical Garden for a \"\n",
      "            'mix of nature and history. Enjoy the serene surroundings, visit '\n",
      "            \"the glasshouse, and learn about the garden's historical \"\n",
      "            \"significance.']\"}\n"
     ]
    }
   ],
   "source": [
    "pprint(res)"
   ]
  }
 ],
 "metadata": {
  "kernelspec": {
   "display_name": ".venv",
   "language": "python",
   "name": "python3"
  },
  "language_info": {
   "codemirror_mode": {
    "name": "ipython",
    "version": 3
   },
   "file_extension": ".py",
   "mimetype": "text/x-python",
   "name": "python",
   "nbconvert_exporter": "python",
   "pygments_lexer": "ipython3",
   "version": "3.11.7"
  }
 },
 "nbformat": 4,
 "nbformat_minor": 2
}
