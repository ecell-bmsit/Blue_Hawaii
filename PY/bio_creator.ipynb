{
 "cells": [
  {
   "cell_type": "code",
   "execution_count": 1,
   "metadata": {},
   "outputs": [],
   "source": [
    "from strictjson import *\n",
    "from pprint import pprint"
   ]
  },
  {
   "cell_type": "code",
   "execution_count": 2,
   "metadata": {},
   "outputs": [],
   "source": [
    "def create_bio(place_name: str):\n",
    "    res = strict_json(\n",
    "        system_prompt=\"You are an bio creator for tourist places. Make a 5 line bio covering the overall tourist destinations and attractions and give an introduction of {place_name} \".format(\n",
    "            place_name=place_name,\n",
    "        ),\n",
    "        user_prompt=place_name,\n",
    "        output_format={\n",
    "            \"Description\": \"This is the description for {place_name}.\".format(place_name=place_name)\n",
    "        },\n",
    "    )\n",
    "    return res"
   ]
  },
  {
   "cell_type": "code",
   "execution_count": 3,
   "metadata": {},
   "outputs": [],
   "source": [
    "if __name__ == \"__main__\":\n",
    "    res = create_bio(\"Bengaluru\")"
   ]
  },
  {
   "cell_type": "code",
   "execution_count": 4,
   "metadata": {},
   "outputs": [
    {
     "data": {
      "text/plain": [
       "{'Description': 'Bengaluru, also known as Bangalore, is the capital city of Karnataka, India. It is a vibrant metropolis known for its pleasant climate, beautiful parks, and bustling markets. The city is a hub for technology and innovation, with numerous IT companies and startups. Bengaluru is also home to historical landmarks like the Bangalore Palace and Lalbagh Botanical Garden, as well as modern attractions like the Vidhana Soudha and UB City Mall.'}"
      ]
     },
     "execution_count": 4,
     "metadata": {},
     "output_type": "execute_result"
    }
   ],
   "source": [
    "res"
   ]
  }
 ],
 "metadata": {
  "kernelspec": {
   "display_name": ".venv",
   "language": "python",
   "name": "python3"
  },
  "language_info": {
   "codemirror_mode": {
    "name": "ipython",
    "version": 3
   },
   "file_extension": ".py",
   "mimetype": "text/x-python",
   "name": "python",
   "nbconvert_exporter": "python",
   "pygments_lexer": "ipython3",
   "version": "3.11.7"
  }
 },
 "nbformat": 4,
 "nbformat_minor": 2
}
